{
  "nbformat": 4,
  "nbformat_minor": 0,
  "metadata": {
    "colab": {
      "provenance": []
    },
    "kernelspec": {
      "name": "python3",
      "display_name": "Python 3"
    },
    "language_info": {
      "name": "python"
    }
  },
  "cells": [
    {
      "cell_type": "code",
      "source": [
        "!pip install deepspeech"
      ],
      "metadata": {
        "colab": {
          "base_uri": "https://localhost:8080/"
        },
        "id": "XCIaYqYKtL8-",
        "outputId": "86206da6-ce2c-4b92-a833-e82b9f5e4c38"
      },
      "execution_count": 1,
      "outputs": [
        {
          "output_type": "stream",
          "name": "stdout",
          "text": [
            "Looking in indexes: https://pypi.org/simple, https://us-python.pkg.dev/colab-wheels/public/simple/\n",
            "Collecting deepspeech\n",
            "  Downloading deepspeech-0.9.3-cp38-cp38-manylinux1_x86_64.whl (9.2 MB)\n",
            "\u001b[2K     \u001b[90m━━━━━━━━━━━━━━━━━━━━━━━━━━━━━━━━━━━━━━━━\u001b[0m \u001b[32m9.2/9.2 MB\u001b[0m \u001b[31m39.0 MB/s\u001b[0m eta \u001b[36m0:00:00\u001b[0m\n",
            "\u001b[?25hRequirement already satisfied: numpy>=1.17.3 in /usr/local/lib/python3.8/dist-packages (from deepspeech) (1.22.4)\n",
            "Installing collected packages: deepspeech\n",
            "Successfully installed deepspeech-0.9.3\n"
          ]
        }
      ]
    },
    {
      "cell_type": "code",
      "source": [
        "!pip install pydub"
      ],
      "metadata": {
        "colab": {
          "base_uri": "https://localhost:8080/"
        },
        "id": "na9yh1RRtfoD",
        "outputId": "b8ac7698-32de-41bd-b814-32909dd26254"
      },
      "execution_count": 2,
      "outputs": [
        {
          "output_type": "stream",
          "name": "stdout",
          "text": [
            "Looking in indexes: https://pypi.org/simple, https://us-python.pkg.dev/colab-wheels/public/simple/\n",
            "Collecting pydub\n",
            "  Downloading pydub-0.25.1-py2.py3-none-any.whl (32 kB)\n",
            "Installing collected packages: pydub\n",
            "Successfully installed pydub-0.25.1\n"
          ]
        }
      ]
    },
    {
      "cell_type": "code",
      "execution_count": 3,
      "metadata": {
        "id": "inb1b5cBs5zg"
      },
      "outputs": [],
      "source": [
        "import deepspeech\n",
        "import numpy as np\n",
        "import os\n",
        "import wave\n",
        "from pydub import AudioSegment"
      ]
    },
    {
      "cell_type": "code",
      "source": [
        "def getSelection():\n",
        "  while True:\n",
        "    try:\n",
        "      userInput = int(input())\n",
        "      if(userInput < 1 or userInput > 3):\n",
        "        print(\"Invalid input. Please try again.\")\n",
        "        continue\n",
        "      else:\n",
        "        return userInput\n",
        "      break\n",
        "    except ValueError:\n",
        "      print(\"Invalid input. Please try again.\")"
      ],
      "metadata": {
        "id": "0jdYkWlFtlDz"
      },
      "execution_count": 4,
      "outputs": []
    },
    {
      "cell_type": "code",
      "source": [
        "def getLanguage(argument):\n",
        "  switcher = {\n",
        "    1: \"en-US\",\n",
        "    2: \"hi-IN\"\n",
        "    }\n",
        "  return switcher.get(argument, 0)"
      ],
      "metadata": {
        "id": "_9wxZ1Fkt6bJ"
      },
      "execution_count": 5,
      "outputs": []
    },
    {
      "cell_type": "code",
      "source": [
        "def startConversion(audioFile, lang):\n",
        "  # Load DeepSpeech model\n",
        "  model_path = \"deepspeech-0.9.3-models.pbmm\"\n",
        "  model = deepspeech.Model(model_path)"
      ],
      "metadata": {
        "id": "nscO3_d3t_mM"
      },
      "execution_count": 6,
      "outputs": []
    },
    {
      "cell_type": "code",
      "source": [
        "def convertWavToFlac(audioFile):\n",
        "    # Load audio file using PyDub\n",
        "    audio = AudioSegment.from_wav(audioFile)\n",
        "    audio = audio.set_channels(1)\n",
        "    audio.export(\"temp.flac\", format=\"flac\")\n",
        "    return \"temp.flac\""
      ],
      "metadata": {
        "id": "BeXG5OXuusZR"
      },
      "execution_count": 7,
      "outputs": []
    },
    {
      "cell_type": "code",
      "source": [
        "# Load audio file using PyDub\n",
        "audio = AudioSegment.from_wav(audioFile)\n",
        "audio = audio.set_channels(1)\n",
        "audio.export(\"temp.wav\", format=\"wav\")\n",
        "audioFile = \"temp.wav\"\n",
        "\n",
        "# Read audio file as PCM\n",
        "with wave.open(audioFile, \"rb\") as waveFile:\n",
        "    rate = waveFile.getframerate()\n",
        "    frames = waveFile.getnframes()\n",
        "    buffer = waveFile.readframes(frames)\n",
        "    audioData = np.frombuffer(buffer, dtype=np.int16)\n",
        "\n",
        "# Perform speech-to-text\n",
        "text = model.stt(audioData)\n",
        "print(\"Original audio: \", audio.get_raw_data())\n",
        "print(\"Transcribed text: \", text)\n"
      ],
      "metadata": {
        "colab": {
          "base_uri": "https://localhost:8080/",
          "height": 235
        },
        "id": "U52vAL2SuFwd",
        "outputId": "a2cc0f22-a8b0-4a27-e126-bc0409f57e64"
      },
      "execution_count": 8,
      "outputs": [
        {
          "output_type": "error",
          "ename": "NameError",
          "evalue": "ignored",
          "traceback": [
            "\u001b[0;31m---------------------------------------------------------------------------\u001b[0m",
            "\u001b[0;31mNameError\u001b[0m                                 Traceback (most recent call last)",
            "\u001b[0;32m<ipython-input-8-6a8fa597b0e8>\u001b[0m in \u001b[0;36m<module>\u001b[0;34m\u001b[0m\n\u001b[1;32m      1\u001b[0m \u001b[0;31m# Load audio file using PyDub\u001b[0m\u001b[0;34m\u001b[0m\u001b[0;34m\u001b[0m\u001b[0;34m\u001b[0m\u001b[0m\n\u001b[0;32m----> 2\u001b[0;31m \u001b[0maudio\u001b[0m \u001b[0;34m=\u001b[0m \u001b[0mAudioSegment\u001b[0m\u001b[0;34m.\u001b[0m\u001b[0mfrom_wav\u001b[0m\u001b[0;34m(\u001b[0m\u001b[0maudioFile\u001b[0m\u001b[0;34m)\u001b[0m\u001b[0;34m\u001b[0m\u001b[0;34m\u001b[0m\u001b[0m\n\u001b[0m\u001b[1;32m      3\u001b[0m \u001b[0maudio\u001b[0m \u001b[0;34m=\u001b[0m \u001b[0maudio\u001b[0m\u001b[0;34m.\u001b[0m\u001b[0mset_channels\u001b[0m\u001b[0;34m(\u001b[0m\u001b[0;36m1\u001b[0m\u001b[0;34m)\u001b[0m\u001b[0;34m\u001b[0m\u001b[0;34m\u001b[0m\u001b[0m\n\u001b[1;32m      4\u001b[0m \u001b[0maudio\u001b[0m\u001b[0;34m.\u001b[0m\u001b[0mexport\u001b[0m\u001b[0;34m(\u001b[0m\u001b[0;34m\"temp.wav\"\u001b[0m\u001b[0;34m,\u001b[0m \u001b[0mformat\u001b[0m\u001b[0;34m=\u001b[0m\u001b[0;34m\"wav\"\u001b[0m\u001b[0;34m)\u001b[0m\u001b[0;34m\u001b[0m\u001b[0;34m\u001b[0m\u001b[0m\n\u001b[1;32m      5\u001b[0m \u001b[0maudioFile\u001b[0m \u001b[0;34m=\u001b[0m \u001b[0;34m\"temp.wav\"\u001b[0m\u001b[0;34m\u001b[0m\u001b[0;34m\u001b[0m\u001b[0m\n",
            "\u001b[0;31mNameError\u001b[0m: name 'audioFile' is not defined"
          ]
        }
      ]
    }
  ]
}