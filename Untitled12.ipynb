{
 "cells": [
  {
   "cell_type": "code",
   "execution_count": 1,
   "id": "fabd0302",
   "metadata": {},
   "outputs": [],
   "source": [
    "import speech_recognition as sr"
   ]
  },
  {
   "cell_type": "code",
   "execution_count": 2,
   "id": "ae0942d5",
   "metadata": {},
   "outputs": [],
   "source": [
    "# Load audio file\n",
    "filename = \"welcome.wav\"\n",
    "audio_file = sr.AudioFile(filename)"
   ]
  },
  {
   "cell_type": "code",
   "execution_count": 3,
   "id": "166bed1b",
   "metadata": {},
   "outputs": [
    {
     "name": "stdout",
     "output_type": "stream",
     "text": [
      "result2:\n",
      "{   'alternative': [   {'confidence': 0.97219545, 'transcript': 'hi hello'},\n",
      "                       {'transcript': 'hey hello'}],\n",
      "    'final': True}\n"
     ]
    }
   ],
   "source": [
    "# Initialize recognizer\n",
    "r = sr.Recognizer()\n",
    "\n",
    "# Convert audio to text\n",
    "with audio_file as source:\n",
    "    audio = r.record(source)\n",
    "text = r.recognize_google(audio)\n",
    "\n",
    "# Save text to file\n",
    "with open(\"output.txt\", \"w\") as file:\n",
    "    file.write(text)"
   ]
  },
  {
   "cell_type": "code",
   "execution_count": null,
   "id": "625aebc7",
   "metadata": {},
   "outputs": [],
   "source": []
  }
 ],
 "metadata": {
  "kernelspec": {
   "display_name": "Python 3 (ipykernel)",
   "language": "python",
   "name": "python3"
  },
  "language_info": {
   "codemirror_mode": {
    "name": "ipython",
    "version": 3
   },
   "file_extension": ".py",
   "mimetype": "text/x-python",
   "name": "python",
   "nbconvert_exporter": "python",
   "pygments_lexer": "ipython3",
   "version": "3.10.7"
  }
 },
 "nbformat": 4,
 "nbformat_minor": 5
}
