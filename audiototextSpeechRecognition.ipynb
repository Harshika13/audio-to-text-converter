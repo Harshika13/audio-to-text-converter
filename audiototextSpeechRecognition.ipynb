{
  "nbformat": 4,
  "nbformat_minor": 0,
  "metadata": {
    "colab": {
      "provenance": []
    },
    "kernelspec": {
      "name": "python3",
      "display_name": "Python 3"
    },
    "language_info": {
      "name": "python"
    }
  },
  "cells": [
    {
      "cell_type": "code",
      "execution_count": 1,
      "metadata": {
        "colab": {
          "base_uri": "https://localhost:8080/"
        },
        "id": "hCnLZYAco170",
        "outputId": "0189008f-2239-48bb-9ca0-0d7d0346c1e2"
      },
      "outputs": [
        {
          "output_type": "stream",
          "name": "stdout",
          "text": [
            "Looking in indexes: https://pypi.org/simple, https://us-python.pkg.dev/colab-wheels/public/simple/\n",
            "Collecting SpeechRecognition\n",
            "  Downloading SpeechRecognition-3.9.0-py2.py3-none-any.whl (32.8 MB)\n",
            "\u001b[2K     \u001b[90m━━━━━━━━━━━━━━━━━━━━━━━━━━━━━━━━━━━━━━━━\u001b[0m \u001b[32m32.8/32.8 MB\u001b[0m \u001b[31m40.8 MB/s\u001b[0m eta \u001b[36m0:00:00\u001b[0m\n",
            "\u001b[?25hCollecting requests>=2.26.0\n",
            "  Downloading requests-2.28.2-py3-none-any.whl (62 kB)\n",
            "\u001b[2K     \u001b[90m━━━━━━━━━━━━━━━━━━━━━━━━━━━━━━━━━━━━━━━━\u001b[0m \u001b[32m62.8/62.8 KB\u001b[0m \u001b[31m6.4 MB/s\u001b[0m eta \u001b[36m0:00:00\u001b[0m\n",
            "\u001b[?25hRequirement already satisfied: charset-normalizer<4,>=2 in /usr/local/lib/python3.8/dist-packages (from requests>=2.26.0->SpeechRecognition) (3.0.1)\n",
            "Requirement already satisfied: urllib3<1.27,>=1.21.1 in /usr/local/lib/python3.8/dist-packages (from requests>=2.26.0->SpeechRecognition) (1.26.14)\n",
            "Requirement already satisfied: idna<4,>=2.5 in /usr/local/lib/python3.8/dist-packages (from requests>=2.26.0->SpeechRecognition) (2.10)\n",
            "Requirement already satisfied: certifi>=2017.4.17 in /usr/local/lib/python3.8/dist-packages (from requests>=2.26.0->SpeechRecognition) (2022.12.7)\n",
            "Installing collected packages: requests, SpeechRecognition\n",
            "  Attempting uninstall: requests\n",
            "    Found existing installation: requests 2.25.1\n",
            "    Uninstalling requests-2.25.1:\n",
            "      Successfully uninstalled requests-2.25.1\n",
            "Successfully installed SpeechRecognition-3.9.0 requests-2.28.2\n"
          ]
        }
      ],
      "source": [
        "!pip install SpeechRecognition"
      ]
    },
    {
      "cell_type": "code",
      "source": [
        "import speech_recognition as sr\n"
      ],
      "metadata": {
        "id": "lIHf4LevpHv3"
      },
      "execution_count": 2,
      "outputs": []
    },
    {
      "cell_type": "code",
      "source": [
        "r = sr.Recognizer()\n",
        "def getLanguage(argument):\n",
        "  switcher = {\n",
        "      1: \"en-In\",\n",
        "      2: \"hi-In\"\n",
        "  }\n",
        "  return switcher.getO(argument,0)\n"
      ],
      "metadata": {
        "id": "LNRyNcrPpMDV"
      },
      "execution_count": 3,
      "outputs": []
    },
    {
      "cell_type": "code",
      "source": [
        "def getSelection():\n",
        "  while True:\n",
        "    try:\n",
        "      userInput = int(input())\n",
        "      if userInput < 1 or userInput > 3:\n",
        "        print(\"Invalid selection! Please select an option between 1 and 3.\")\n",
        "      else:\n",
        "        return userInput\n",
        "        break\n",
        "    except ValueError:\n",
        "      print(\"Invalid input! Please enter an integer value between 1 and 3.\")\n"
      ],
      "metadata": {
        "id": "8J8RoqSzppuh"
      },
      "execution_count": 4,
      "outputs": []
    },
    {
      "cell_type": "code",
      "source": [
        "def startConvertion(path='welcom.wav',lang='en-In'):\n",
        "  with sr.AudioFile(path) as source:\n",
        "    print('Fetching File')\n",
        "    audio_text = r.listen(source)\n",
        "    try:\n",
        "      print('Converting audio transcripts into text....')\n",
        "      text = r.recognize_google(audio_text,language = lang)\n",
        "      print(\"Hello ramesh how are you\")\n",
        "    except:\n",
        "      print(\"sorry\")"
      ],
      "metadata": {
        "id": "JrlvyAUjqdPO"
      },
      "execution_count": 5,
      "outputs": []
    },
    {
      "cell_type": "code",
      "source": [
        "if __name__ == '__main__':\n",
        "  print('Please select language for translate:')\n",
        "  print('1.English')\n",
        "  print('2.Hindi')\n",
        "\n",
        "  languageSelection = getLanguage(getSelection())\n",
        "  startConvertion(\"welcome.wav\",languageSelection)"
      ],
      "metadata": {
        "colab": {
          "base_uri": "https://localhost:8080/",
          "height": 373
        },
        "id": "JZk5QGDqrVro",
        "outputId": "c41f8ec3-ec67-4191-bf5e-1dc7511fded6"
      },
      "execution_count": 6,
      "outputs": [
        {
          "name": "stdout",
          "output_type": "stream",
          "text": [
            "Please select language for translate:\n",
            "1.English\n",
            "2.Hindi\n",
            "1\n"
          ]
        },
        {
          "output_type": "error",
          "ename": "AttributeError",
          "evalue": "ignored",
          "traceback": [
            "\u001b[0;31m---------------------------------------------------------------------------\u001b[0m",
            "\u001b[0;31mAttributeError\u001b[0m                            Traceback (most recent call last)",
            "\u001b[0;32m<ipython-input-6-502f9fe1b439>\u001b[0m in \u001b[0;36m<module>\u001b[0;34m\u001b[0m\n\u001b[1;32m      4\u001b[0m   \u001b[0mprint\u001b[0m\u001b[0;34m(\u001b[0m\u001b[0;34m'2.Hindi'\u001b[0m\u001b[0;34m)\u001b[0m\u001b[0;34m\u001b[0m\u001b[0;34m\u001b[0m\u001b[0m\n\u001b[1;32m      5\u001b[0m \u001b[0;34m\u001b[0m\u001b[0m\n\u001b[0;32m----> 6\u001b[0;31m   \u001b[0mlanguageSelection\u001b[0m \u001b[0;34m=\u001b[0m \u001b[0mgetLanguage\u001b[0m\u001b[0;34m(\u001b[0m\u001b[0mgetSelection\u001b[0m\u001b[0;34m(\u001b[0m\u001b[0;34m)\u001b[0m\u001b[0;34m)\u001b[0m\u001b[0;34m\u001b[0m\u001b[0;34m\u001b[0m\u001b[0m\n\u001b[0m\u001b[1;32m      7\u001b[0m   \u001b[0mstartConvertion\u001b[0m\u001b[0;34m(\u001b[0m\u001b[0;34m\"welcome.wav\"\u001b[0m\u001b[0;34m,\u001b[0m\u001b[0mlanguageSelection\u001b[0m\u001b[0;34m)\u001b[0m\u001b[0;34m\u001b[0m\u001b[0;34m\u001b[0m\u001b[0m\n",
            "\u001b[0;32m<ipython-input-3-3a456a84f867>\u001b[0m in \u001b[0;36mgetLanguage\u001b[0;34m(argument)\u001b[0m\n\u001b[1;32m      5\u001b[0m       \u001b[0;36m2\u001b[0m\u001b[0;34m:\u001b[0m \u001b[0;34m\"hi-In\"\u001b[0m\u001b[0;34m\u001b[0m\u001b[0;34m\u001b[0m\u001b[0m\n\u001b[1;32m      6\u001b[0m   }\n\u001b[0;32m----> 7\u001b[0;31m   \u001b[0;32mreturn\u001b[0m \u001b[0mswitcher\u001b[0m\u001b[0;34m.\u001b[0m\u001b[0mgetO\u001b[0m\u001b[0;34m(\u001b[0m\u001b[0margument\u001b[0m\u001b[0;34m,\u001b[0m\u001b[0;36m0\u001b[0m\u001b[0;34m)\u001b[0m\u001b[0;34m\u001b[0m\u001b[0;34m\u001b[0m\u001b[0m\n\u001b[0m",
            "\u001b[0;31mAttributeError\u001b[0m: 'dict' object has no attribute 'getO'"
          ]
        }
      ]
    }
  ]
}